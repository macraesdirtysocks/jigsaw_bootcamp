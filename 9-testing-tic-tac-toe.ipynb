{
  "cells": [
    {
      "cell_type": "markdown",
      "metadata": {
        "id": "4g0g4Bx1KG7y"
      },
      "source": [
        "# Testing Tic Tac Toe"
      ]
    },
    {
      "cell_type": "markdown",
      "metadata": {
        "id": "gNQDTvNQKG72"
      },
      "source": [
        "### Introduction"
      ]
    },
    {
      "cell_type": "markdown",
      "metadata": {
        "id": "DVeXKG7TKG72"
      },
      "source": [
        "In this lesson, we'll work on writing some of our own tests.  Let's say that we have we want to build out the game tic tac toe.  We'll get you started with the state of the board."
      ]
    },
    {
      "cell_type": "markdown",
      "metadata": {
        "id": "L4gf6LZpKG73"
      },
      "source": [
        "### Building a Board"
      ]
    },
    {
      "cell_type": "code",
      "execution_count": 26,
      "metadata": {
        "id": "1rGOr3eyKG73"
      },
      "outputs": [],
      "source": [
        "import random\n",
        "class Board:\n",
        "    def __init__(self, state):\n",
        "        self.state = state\n",
        "        self.players = ['X', 'O']\n",
        "        self.first_to_play = random.choice(self.players)\n",
        "        self.player_turn = self.first_to_play\n",
        "        print(f\"Welcome to tic-tac-toe, you're board is ready and {self.first_to_play} has first go!\")\n",
        "    \n",
        "    def player_move(self, move):\n",
        "        input(f\"player {self.player_turn} turn to play :\")\n",
        "        self.player_turn = [player for player in self.players if player != self.turn[-1]][0]\n",
        "        # [player for player in players if player != self.turn[-1]][0]\n",
        "        # if len(self.turn)%2 == 0:\n",
        "            # move = 'O'\n",
        "        # else:\n",
        "            # move\n",
        "\n",
        "        # self.turn +=1\n"
      ]
    },
    {
      "cell_type": "code",
      "execution_count": 21,
      "metadata": {
        "id": "8CsV3Z4AKG74"
      },
      "outputs": [],
      "source": [
        "state = [['X', 'X', 'O'], \n",
        "        ['X', 'O', 'O'], \n",
        "        ['O', 'X', 'O']]"
      ]
    },
    {
      "cell_type": "code",
      "execution_count": 27,
      "metadata": {
        "id": "vncpJ-8wKG75"
      },
      "outputs": [
        {
          "name": "stdout",
          "output_type": "stream",
          "text": [
            "Welcome to tic-tac-toe, you're board is ready and O has first go!\n"
          ]
        }
      ],
      "source": [
        "board = Board(state = state)"
      ]
    },
    {
      "cell_type": "code",
      "execution_count": 7,
      "metadata": {},
      "outputs": [
        {
          "data": {
            "text/plain": [
              "[['X', 'X', 'O'], ['X', 'O', 'O'], ['O', 'X', 'O']]"
            ]
          },
          "execution_count": 7,
          "metadata": {},
          "output_type": "execute_result"
        }
      ],
      "source": [
        "board.state"
      ]
    },
    {
      "cell_type": "code",
      "execution_count": 23,
      "metadata": {
        "id": "2MYJRA8gKG76",
        "outputId": "35c10212-303c-4412-b930-d12977ce919e"
      },
      "outputs": [
        {
          "data": {
            "text/plain": [
              "'O'"
            ]
          },
          "execution_count": 23,
          "metadata": {},
          "output_type": "execute_result"
        }
      ],
      "source": [
        "board.player_turn"
      ]
    },
    {
      "cell_type": "markdown",
      "metadata": {
        "id": "YXv44iD2KG77"
      },
      "source": [
        "We can perhaps write a function called `winner` that is an instance method of the board class that:\n",
        "\n",
        "* returns a `'O'` if `O` has won\n",
        "* returns an `'X'` if `X` has won\n",
        "* returns `N/A` if neither has yet won\n",
        "* returns `tie` if all pieces are done and it's a tie.\n",
        "    \n",
        "Hints: \n",
        "* In building this out, perhaps start with completing a small bit of functionality of the code, then writing a test that confirms this functionality works.  Then, after successfully achieving this, try to write the tests before writing the code.\n",
        "* It may be useful to write out some (or all) of the different scenarios, and then write out the corresponding tests to accompany the code.\n",
        "* Keep in mind our guidelines about having keeping methods to five lines or fewer.  If the method length grows beyond this, then refactor into smaller methods."
      ]
    },
    {
      "cell_type": "markdown",
      "metadata": {
        "id": "-ABFWbMQKG78"
      },
      "source": [
        "Good luck!"
      ]
    }
  ],
  "metadata": {
    "colab": {
      "name": "index.ipynb",
      "provenance": []
    },
    "kernelspec": {
      "display_name": "Python 3.10.3 64-bit",
      "language": "python",
      "name": "python3"
    },
    "language_info": {
      "codemirror_mode": {
        "name": "ipython",
        "version": 3
      },
      "file_extension": ".py",
      "mimetype": "text/x-python",
      "name": "python",
      "nbconvert_exporter": "python",
      "pygments_lexer": "ipython3",
      "version": "3.10.3"
    },
    "vscode": {
      "interpreter": {
        "hash": "7e1998ff7f8aa20ada591c520b972326324e5ea05489af9e422744c7c09f6dad"
      }
    }
  },
  "nbformat": 4,
  "nbformat_minor": 0
}
